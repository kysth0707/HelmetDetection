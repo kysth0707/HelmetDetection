{
 "cells": [
  {
   "cell_type": "code",
   "execution_count": 1,
   "metadata": {},
   "outputs": [],
   "source": [
    "import tensorflow as tf\n",
    "import tensorflow_hub as hub\n",
    "import cv2 as cv\n",
    "from matplotlib import pyplot as plt\n",
    "import numpy as np\n",
    "import copy"
   ]
  },
  {
   "cell_type": "code",
   "execution_count": 2,
   "metadata": {},
   "outputs": [],
   "source": [
    "model = hub.load('https://tfhub.dev/google/movenet/multipose/lightning/1')\n",
    "movenet = model.signatures['serving_default']"
   ]
  },
  {
   "cell_type": "code",
   "execution_count": 18,
   "metadata": {},
   "outputs": [],
   "source": [
    "# Function to loop through each person detected and render\n",
    "def loop_through_people(frame, keypoints_with_scores, edges, confidence_threshold):\n",
    "\tfor person in keypoints_with_scores:\n",
    "\t\ty, x, c = frame.shape\n",
    "\t\tshaped = np.squeeze(np.multiply(person, [y,x,1]))\n",
    "\n",
    "\t\tfor i, kp in enumerate(shaped):\n",
    "\t\t\tif i == 5 or i == 6:\n",
    "\t\t\t\tky, kx, kp_conf = kp\n",
    "\t\t\t\tif kp_conf > confidence_threshold:\n",
    "\t\t\t\t\tcv.circle(frame, (int(kx), int(ky)), 6, (0,255,0), -1)\n",
    "\t\t\t\t\tcv.putText(frame, text=f\"{i}\", org=(int(kx), int(ky)),\n",
    "\t\t\t\t\t\t\tfontFace=cv.FONT_HERSHEY_SIMPLEX, fontScale=0.3, color=(0, 0, 0), thickness=1, lineType=cv.LINE_AA)"
   ]
  },
  {
   "cell_type": "code",
   "execution_count": 6,
   "metadata": {},
   "outputs": [],
   "source": [
    "EDGES = {\n",
    "    (0, 1): 'm',\n",
    "    (0, 2): 'c',\n",
    "    (1, 3): 'm',\n",
    "    (2, 4): 'c',\n",
    "    (0, 5): 'm',\n",
    "    (0, 6): 'c',\n",
    "    (5, 7): 'm',\n",
    "    (7, 9): 'm',\n",
    "    (6, 8): 'c',\n",
    "    (8, 10): 'c',\n",
    "    (5, 6): 'y',\n",
    "    (5, 11): 'm',\n",
    "    (6, 12): 'c',\n",
    "    (11, 12): 'y',\n",
    "    (11, 13): 'm',\n",
    "    (13, 15): 'm',\n",
    "    (12, 14): 'c',\n",
    "    (14, 16): 'c'\n",
    "}"
   ]
  },
  {
   "cell_type": "code",
   "execution_count": 19,
   "metadata": {},
   "outputs": [],
   "source": [
    "OriginalImage = cv.imread('E:\\GithubProjects\\HelmetDetection\\TestImage.jpg')\n",
    "\n",
    "while True:\n",
    "\tShowImage = copy.deepcopy(OriginalImage)\n",
    "\tHeight, Width = ShowImage.shape[:2]\n",
    "\t# Width : Height = 400 : ?\n",
    "\tShowImage = cv.resize(ShowImage, (400, int(400 * Height / Width)))\n",
    "\tHeight, Width = ShowImage.shape[:2]\n",
    "\n",
    "\n",
    "\t# Resize image\n",
    "\timg = ShowImage.copy()\n",
    "\timg = tf.image.resize_with_pad(tf.expand_dims(img, axis=0), 384,640)\n",
    "\tinput_img = tf.cast(img, dtype=tf.int32)\n",
    "\n",
    "\t# Detection section\n",
    "\tresults = movenet(input_img)\n",
    "\tkeypoints_with_scores = results['output_0'].numpy()[:,:,:51].reshape((6,17,3))\n",
    "\n",
    "\t# Render keypoints \n",
    "\tloop_through_people(ShowImage, keypoints_with_scores, EDGES, 0.1)\n",
    "\n",
    "\tcv.imshow('Movenet Multipose', ShowImage)\n",
    "\n",
    "\tif cv.waitKey(1) == ord('q'):\n",
    "\t\tbreak\n",
    "cv.destroyAllWindows()"
   ]
  }
 ],
 "metadata": {
  "kernelspec": {
   "display_name": "Python 3",
   "language": "python",
   "name": "python3"
  },
  "language_info": {
   "codemirror_mode": {
    "name": "ipython",
    "version": 3
   },
   "file_extension": ".py",
   "mimetype": "text/x-python",
   "name": "python",
   "nbconvert_exporter": "python",
   "pygments_lexer": "ipython3",
   "version": "3.10.5"
  },
  "orig_nbformat": 4,
  "vscode": {
   "interpreter": {
    "hash": "cde9198c2e8e91a0b91670eed1e26ed14d52c99f31af54ead9171463984fcc7e"
   }
  }
 },
 "nbformat": 4,
 "nbformat_minor": 2
}
